{
 "cells": [
  {
   "cell_type": "markdown",
   "metadata": {},
   "source": [
    "# Object-Oriented-Programming (OOP)"
   ]
  },
  {
   "cell_type": "markdown",
   "metadata": {},
   "source": [
    "## Tasks Today:\n",
    "\n",
    "   \n",
    "\n",
    "1) <b>Creating a Class (Initializing/Declaring)</b> <br>\n",
    "2) <b>Using a Class (Instantiating)</b> <br>\n",
    " &nbsp;&nbsp;&nbsp;&nbsp; a) Creating One Instance <br>\n",
    " &nbsp;&nbsp;&nbsp;&nbsp; b) Creating Multiple Instances <br>\n",
    " &nbsp;&nbsp;&nbsp;&nbsp; c) In-Class Exercise #1 - Create a Class 'Car' and instantiate three different makes of cars <br>\n",
    "3) <b>The \\__init\\__() Method</b> <br>\n",
    " &nbsp;&nbsp;&nbsp;&nbsp; a) The 'self' Attribute <br>\n",
    "4) <b>Class Attributes</b> <br>\n",
    " &nbsp;&nbsp;&nbsp;&nbsp; a) Initializing Attributes <br>\n",
    " &nbsp;&nbsp;&nbsp;&nbsp; b) Setting an Attribute Outside of the \\__init\\__() Method <br>\n",
    " &nbsp;&nbsp;&nbsp;&nbsp; c) Setting Defaults for Attributes <br>\n",
    " &nbsp;&nbsp;&nbsp;&nbsp; d) Accessing Class Attributes <br>\n",
    " &nbsp;&nbsp;&nbsp;&nbsp; e) Changing Class Attributes <br>\n",
    " &nbsp;&nbsp;&nbsp;&nbsp; f) In-Class Exercise #2 - Add a color and wheels attribute to your 'Car' class <br>\n",
    "5) <b>Class Methods</b> <br>\n",
    " &nbsp;&nbsp;&nbsp;&nbsp; a) Creating <br>\n",
    " &nbsp;&nbsp;&nbsp;&nbsp; b) Calling <br>\n",
    " &nbsp;&nbsp;&nbsp;&nbsp; c) Modifying an Attribute's Value Through a Method <br>\n",
    " &nbsp;&nbsp;&nbsp;&nbsp; d) Incrementing an Attribute's Value Through a Method <br>\n",
    " &nbsp;&nbsp;&nbsp;&nbsp; e) In-Class Exercise #3 - Add a method that prints the cars color and wheel number, then call them <br>\n",
    "6) <b>Inheritance</b> <br>\n",
    " &nbsp;&nbsp;&nbsp;&nbsp; a) Syntax for Inheriting from a Parent Class <br>\n",
    " &nbsp;&nbsp;&nbsp;&nbsp; b) The \\__init\\__() Method for a Child Class (super()) <br>\n",
    " &nbsp;&nbsp;&nbsp;&nbsp; c) Defining Attributes and Methods for the Child Class <br>\n",
    " &nbsp;&nbsp;&nbsp;&nbsp; d) Method Overriding <br>\n",
    " &nbsp;&nbsp;&nbsp;&nbsp; e) In-Class Exercise #4 - Create a class 'Ford' that inherits from 'Car' class and initialize it as a Blue Ford Explorer with 4 wheels using the super() method <br>\n",
    "7) <b>Classes as Attributes</b> <br>\n",
    "8) <b>Exercises</b> <br>\n",
    " &nbsp;&nbsp;&nbsp;&nbsp; a) Exercise #1 - Turn the shopping cart program from yesterday into an object-oriented program <br>"
   ]
  },
  {
   "cell_type": "markdown",
   "metadata": {},
   "source": [
    "## Creating a Class (Initializing/Declaring)\n",
    "<p>When creating a class, function, or even a variable you are initializing that object. Initializing and Declaring occur at the same time in Python, whereas in lower level languages you have to declare an object before initializing it. This is the first step in the process of using a class.</p>"
   ]
  },
  {
   "cell_type": "code",
   "execution_count": 2,
   "metadata": {},
   "outputs": [],
   "source": [
    "#name class with Capital Letter\n",
    "class Car():\n",
    "    wheels = 4\n",
    "    color = 'blue'"
   ]
  },
  {
   "cell_type": "code",
   "execution_count": 3,
   "metadata": {},
   "outputs": [],
   "source": [
    "class Agent:\n",
    "    name = 'Smith'\n",
    "    glasses = 'black'"
   ]
  },
  {
   "cell_type": "markdown",
   "metadata": {},
   "source": [
    "## Using a Class (Instantiating)\n",
    "<p>The process of creating a class is called <i>Instantiating</i>. Each time you create a variable of that type of class, it is referred to as an <i>Instance</i> of that class. This is the second step in the process of using a class.</p>"
   ]
  },
  {
   "cell_type": "markdown",
   "metadata": {},
   "source": [
    "##### Creating One Instance"
   ]
  },
  {
   "cell_type": "code",
   "execution_count": null,
   "metadata": {},
   "outputs": [],
   "source": [
    "ford = Car()\n",
    "\n",
    "print(ford)"
   ]
  },
  {
   "cell_type": "code",
   "execution_count": 4,
   "metadata": {},
   "outputs": [],
   "source": [
    "agent_1 = Agent()\n",
    "agent_2 = Agent()\n",
    "agent_3 = Agent()"
   ]
  },
  {
   "cell_type": "markdown",
   "metadata": {},
   "source": [
    "##### Creating Multiple Instances"
   ]
  },
  {
   "cell_type": "code",
   "execution_count": null,
   "metadata": {},
   "outputs": [],
   "source": [
    "#Creating multiple instances\n",
    "chevy = Car()\n",
    "honda = Car()\n",
    "volvo = Car()\n",
    "# Outputting class atributes\n",
    "honda.wheels\n",
    "chevy.wheels\n",
    "\n",
    "volvo.color\n",
    "#Attribute Error\n",
    "volvo.engine"
   ]
  },
  {
   "cell_type": "markdown",
   "metadata": {},
   "source": [
    "##### In-Class Exercise #1 - Create a Class 'Car' and Instantiate three different makes of cars"
   ]
  },
  {
   "cell_type": "code",
   "execution_count": 5,
   "metadata": {},
   "outputs": [],
   "source": [
    "class Car():\n",
    "    doors = 2\n",
    "    color = 'green'"
   ]
  },
  {
   "cell_type": "code",
   "execution_count": 7,
   "metadata": {},
   "outputs": [
    {
     "name": "stdout",
     "output_type": "stream",
     "text": [
      "green\n"
     ]
    }
   ],
   "source": [
    "toyota = Car()\n",
    "nissan = Car()\n",
    "tesla = Car()\n",
    "\n",
    "nissan.doors = '4 doors'\n",
    "print(tesla.color)"
   ]
  },
  {
   "cell_type": "markdown",
   "metadata": {},
   "source": [
    "## The \\__init\\__() Method <br>\n",
    "<p>This method is used in almost every created class, and called only once upon the creation of the class instance. This method will initialize all variables needed for the object.</p>"
   ]
  },
  {
   "cell_type": "code",
   "execution_count": 11,
   "metadata": {},
   "outputs": [
    {
     "name": "stdout",
     "output_type": "stream",
     "text": [
      "4\n",
      "honda\n",
      "fit\n"
     ]
    },
    {
     "ename": "NameError",
     "evalue": "name 'car' is not defined",
     "output_type": "error",
     "traceback": [
      "\u001b[1;31m---------------------------------------------------------------------------\u001b[0m",
      "\u001b[1;31mNameError\u001b[0m                                 Traceback (most recent call last)",
      "Cell \u001b[1;32mIn[11], line 14\u001b[0m\n\u001b[0;32m     11\u001b[0m \u001b[38;5;28mprint\u001b[39m(new_car\u001b[38;5;241m.\u001b[39mmake)\n\u001b[0;32m     12\u001b[0m \u001b[38;5;28mprint\u001b[39m(new_car\u001b[38;5;241m.\u001b[39mmodel)\n\u001b[1;32m---> 14\u001b[0m \u001b[43mcar\u001b[49m\u001b[38;5;241m.\u001b[39mwheels\n\u001b[0;32m     15\u001b[0m car\u001b[38;5;241m.\u001b[39mcolor\n\u001b[0;32m     17\u001b[0m car_2 \u001b[38;5;241m=\u001b[39m car(\u001b[38;5;124m'\u001b[39m\u001b[38;5;124mchevy\u001b[39m\u001b[38;5;124m'\u001b[39m, \u001b[38;5;124m'\u001b[39m\u001b[38;5;124mequinox\u001b[39m\u001b[38;5;124m'\u001b[39m)\n",
      "\u001b[1;31mNameError\u001b[0m: name 'car' is not defined"
     ]
    }
   ],
   "source": [
    "class Car:\n",
    "    wheels = 4\n",
    "    \n",
    "    def __init__(self, color, make, model):\n",
    "        self.color = color\n",
    "        self.make = make\n",
    "        self.model = model\n",
    "new_car = Car('white', 'honda', 'fit')\n",
    "\n",
    "print(new_car.wheels)\n",
    "print(new_car.make)\n",
    "print(new_car.model)\n",
    "\n",
    "car.wheels\n",
    "car.color\n",
    "\n",
    "car_2 = car('chevy', 'equinox')"
   ]
  },
  {
   "cell_type": "code",
   "execution_count": 12,
   "metadata": {},
   "outputs": [
    {
     "ename": "TypeError",
     "evalue": "Agent() takes no arguments",
     "output_type": "error",
     "traceback": [
      "\u001b[1;31m---------------------------------------------------------------------------\u001b[0m",
      "\u001b[1;31mTypeError\u001b[0m                                 Traceback (most recent call last)",
      "Cell \u001b[1;32mIn[12], line 1\u001b[0m\n\u001b[1;32m----> 1\u001b[0m \u001b[38;5;28;01mclass\u001b[39;00m \u001b[38;5;21;01mAgent\u001b[39;00m:\n\u001b[0;32m      2\u001b[0m     name \u001b[38;5;241m=\u001b[39m \u001b[38;5;124m'\u001b[39m\u001b[38;5;124mSmith\u001b[39m\u001b[38;5;124m'\u001b[39m\n\u001b[0;32m      3\u001b[0m     \u001b[38;5;28;01mdef\u001b[39;00m \u001b[38;5;21m__init__\u001b[39m(\u001b[38;5;28mself\u001b[39m, person_jump, weapon, in_matrix\u001b[38;5;241m=\u001b[39m\u001b[38;5;28;01mTrue\u001b[39;00m):\n",
      "Cell \u001b[1;32mIn[12], line 7\u001b[0m, in \u001b[0;36mAgent\u001b[1;34m()\u001b[0m\n\u001b[0;32m      5\u001b[0m     \u001b[38;5;28mself\u001b[39m\u001b[38;5;241m.\u001b[39mweapon \u001b[38;5;241m=\u001b[39m weapon\n\u001b[0;32m      6\u001b[0m     \u001b[38;5;28mself\u001b[39m\u001b[38;5;241m.\u001b[39min_matrix \u001b[38;5;241m=\u001b[39m in_matrix\n\u001b[1;32m----> 7\u001b[0m new_agent \u001b[38;5;241m=\u001b[39m \u001b[43mAgent\u001b[49m\u001b[43m(\u001b[49m\u001b[38;5;124;43m'\u001b[39;49m\u001b[38;5;124;43mBob\u001b[39;49m\u001b[38;5;124;43m'\u001b[39;49m\u001b[43m,\u001b[49m\u001b[43m \u001b[49m\u001b[38;5;124;43m'\u001b[39;49m\u001b[38;5;124;43mDessert Eagle\u001b[39;49m\u001b[38;5;124;43m'\u001b[39;49m\u001b[43m)\u001b[49m\n\u001b[0;32m      8\u001b[0m new_agent\u001b[38;5;241m.\u001b[39min_matrix\n",
      "\u001b[1;31mTypeError\u001b[0m: Agent() takes no arguments"
     ]
    }
   ],
   "source": [
    "class Agent:\n",
    "    name = 'Smith'\n",
    "    def __init__(self, person_jump, weapon, in_matrix=True):\n",
    "        self.p_overwritten = person_jump\n",
    "        self.weapon = weapon\n",
    "        self.in_matrix = in_matrix\n",
    "    new_agent = Agent('Bob', 'Dessert Eagle')\n",
    "    new_agent.in_matrix"
   ]
  },
  {
   "cell_type": "code",
   "execution_count": null,
   "metadata": {},
   "outputs": [],
   "source": []
  },
  {
   "cell_type": "markdown",
   "metadata": {},
   "source": [
    "##### The 'self' Attribute <br>\n",
    "<p>This attribute is required to keep track of specific instance's attributes. Without the self attribute, the program would not know how to reference or keep track of an instance's attributes.</p>"
   ]
  },
  {
   "cell_type": "code",
   "execution_count": null,
   "metadata": {},
   "outputs": [],
   "source": [
    "# see above"
   ]
  },
  {
   "cell_type": "markdown",
   "metadata": {},
   "source": [
    "## Class Attributes <br>\n",
    "<p>While variables are inside of a class, they are referred to as attributes and not variables. When someone says 'attribute' you know they're speaking about a class. Attributes can be initialized through the init method, or outside of it.</p>"
   ]
  },
  {
   "cell_type": "markdown",
   "metadata": {},
   "source": [
    "##### Initializing Attributes"
   ]
  },
  {
   "cell_type": "code",
   "execution_count": null,
   "metadata": {},
   "outputs": [],
   "source": [
    "# see above"
   ]
  },
  {
   "cell_type": "markdown",
   "metadata": {},
   "source": [
    "##### Accessing Class Attributes"
   ]
  },
  {
   "cell_type": "code",
   "execution_count": null,
   "metadata": {
    "scrolled": true
   },
   "outputs": [],
   "source": [
    "# See Above\n",
    "new_agent.p_overwritten"
   ]
  },
  {
   "cell_type": "markdown",
   "metadata": {},
   "source": [
    "##### Setting Defaults for Attributes"
   ]
  },
  {
   "cell_type": "code",
   "execution_count": null,
   "metadata": {},
   "outputs": [],
   "source": []
  },
  {
   "cell_type": "markdown",
   "metadata": {},
   "source": [
    "##### Changing Class Attributes <br>\n",
    "<p>Keep in mind there are global class attributes and then there are attributes only available to each class instance which won't effect other classes.</p>"
   ]
  },
  {
   "cell_type": "code",
   "execution_count": null,
   "metadata": {},
   "outputs": [],
   "source": []
  },
  {
   "cell_type": "code",
   "execution_count": null,
   "metadata": {},
   "outputs": [],
   "source": []
  },
  {
   "cell_type": "markdown",
   "metadata": {},
   "source": [
    "##### In-Class Exercise #2 - Add a doors and seats attribute to your 'Car' class then print out two different instances with different doors and seats"
   ]
  },
  {
   "cell_type": "code",
   "execution_count": 16,
   "metadata": {},
   "outputs": [
    {
     "name": "stdout",
     "output_type": "stream",
     "text": [
      "4\n",
      "honda\n",
      "fit\n"
     ]
    }
   ],
   "source": [
    "class Car:\n",
    "    wheels = 4\n",
    "    \n",
    "    def __init__(self, color, make, model, doors, seats):\n",
    "        self.color = color\n",
    "        self.make = make\n",
    "        self.model = model\n",
    "        self.doors = doors\n",
    "        self.seats = seats\n",
    "tesla = Car(model = 'model s', doors= 2)\n",
    "nissan = Car(color = 'black', model = 'gtr', doors=2, seats=2)\n",
    "\n"
   ]
  },
  {
   "cell_type": "markdown",
   "metadata": {},
   "source": [
    "## Class Methods <br>\n",
    "<p>While inside of a class, functions are referred to as 'methods'. If you hear someone mention methods, they're speaking about classes. Methods are essentially functions, but only callable on the instances of a class.</p>"
   ]
  },
  {
   "cell_type": "markdown",
   "metadata": {},
   "source": [
    "##### Creating"
   ]
  },
  {
   "cell_type": "code",
   "execution_count": 29,
   "metadata": {},
   "outputs": [
    {
     "ename": "AttributeError",
     "evalue": "'Human_Matrix_Universe' object has no attribute 'driver'",
     "output_type": "error",
     "traceback": [
      "\u001b[1;31m---------------------------------------------------------------------------\u001b[0m",
      "\u001b[1;31mAttributeError\u001b[0m                            Traceback (most recent call last)",
      "Cell \u001b[1;32mIn[29], line 1\u001b[0m\n\u001b[1;32m----> 1\u001b[0m \u001b[38;5;28;01mclass\u001b[39;00m \u001b[38;5;21;01mHuman_Matrix_Universe\u001b[39;00m:\n\u001b[0;32m      3\u001b[0m     \u001b[38;5;124;03m'''\u001b[39;00m\n\u001b[0;32m      4\u001b[0m \u001b[38;5;124;03m        A class with methods to wake up, get training, enter matrix,\u001b[39;00m\n\u001b[0;32m      5\u001b[0m \u001b[38;5;124;03m        battle agents, leave matrix, decide to stay.\u001b[39;00m\n\u001b[0;32m      6\u001b[0m \u001b[38;5;124;03m        class attributes:\u001b[39;00m\n\u001b[0;32m      7\u001b[0m \u001b[38;5;124;03m        name, fighting_styles (list), awake?\u001b[39;00m\n\u001b[0;32m      8\u001b[0m \u001b[38;5;124;03m    '''\u001b[39;00m\n\u001b[0;32m     10\u001b[0m     \u001b[38;5;28;01mdef\u001b[39;00m \u001b[38;5;21m__init__\u001b[39m(\u001b[38;5;28mself\u001b[39m, name, fighting_styles\u001b[38;5;241m=\u001b[39m[], awake\u001b[38;5;241m=\u001b[39m\u001b[38;5;28;01mFalse\u001b[39;00m):\n",
      "Cell \u001b[1;32mIn[29], line 62\u001b[0m, in \u001b[0;36mHuman_Matrix_Universe\u001b[1;34m()\u001b[0m\n\u001b[0;32m     58\u001b[0m             \u001b[38;5;28mself\u001b[39m\u001b[38;5;241m.\u001b[39mpill_decision(pill)\n\u001b[0;32m     60\u001b[0m new_human \u001b[38;5;241m=\u001b[39m Human_Matrix_Universe(\u001b[38;5;124m'\u001b[39m\u001b[38;5;124mtank\u001b[39m\u001b[38;5;124m'\u001b[39m, [\u001b[38;5;124m'\u001b[39m\u001b[38;5;124mKickboxing\u001b[39m\u001b[38;5;124m'\u001b[39m])\n\u001b[1;32m---> 62\u001b[0m \u001b[43mnew_human\u001b[49m\u001b[38;5;241;43m.\u001b[39;49m\u001b[43mdriver\u001b[49m()\n",
      "\u001b[1;31mAttributeError\u001b[0m: 'Human_Matrix_Universe' object has no attribute 'driver'"
     ]
    }
   ],
   "source": [
    "class Human_Matrix_Universe:\n",
    "    \n",
    "    '''\n",
    "        A class with methods to wake up, get training, enter matrix,\n",
    "        battle agents, leave matrix, decide to stay.\n",
    "        class attributes:\n",
    "        name, fighting_styles (list), awake?\n",
    "    '''\n",
    "    \n",
    "    def __init__(self, name, fighting_styles=[], awake=False):\n",
    "        self.name = name\n",
    "        self.fighting_styles = fighting_styles\n",
    "        self.awake = awake\n",
    "        self_location = 1\n",
    "    \n",
    "    def pill_decision(self, pill):\n",
    "        if pill == 'red':\n",
    "            self.awake = True \n",
    "        else:\n",
    "            self.awake = False\n",
    "            print('Stays hooked to the machine.')\n",
    "    \n",
    "    def get_training(self):\n",
    "        self.fighting_styles += ['kung fu', 'taekwando', 'aikido', 'drunken monk', 'winghun']\n",
    "        print('\\n You know {self.fighting_styles}')\n",
    "    \n",
    "#     Dynamically adjust class attribute\n",
    "\n",
    "    def specific_training(self, fighting_style):\n",
    "        self.fighting_styles.append(fighting_style)\n",
    "        print(f'\\n You know {fighting_style}')\n",
    "    \n",
    "    def enter_matrix(self):\n",
    "        print('\\n Plug in, Enter the Matrix')\n",
    "        self.location = 1\n",
    "    \n",
    "    def exit_matrix(self):\n",
    "        print('\\n Pick up the phone, Exit the Matrix')\n",
    "        self.location = 0\n",
    "    \n",
    "    def dodge_bullets(self):\n",
    "        if self.location and self.awake:\n",
    "            print('Agents are coming, slow down time, do crazy backflips')\n",
    "        else:\n",
    "            print('RUN!')\n",
    "            \n",
    "    def driver(self):\n",
    "        pill = input('red pill or blue pill?').lower()\n",
    "        self.pill.decision(pill)\n",
    "        while self.awake:\n",
    "            res = input('are you ready?')\n",
    "            if res == 'yes':\n",
    "                self.get_training()\n",
    "                self.enter_matrix()\n",
    "                self.dodge_bullets()\n",
    "                self.exit_matrix()\n",
    "                pill = inpuy(\" you are out\")\n",
    "                self.pill_decision(pill)\n",
    "    \n",
    "    new_human = Human_Matrix_Universe('tank', ['Kickboxing'])\n",
    "    \n",
    "    new_human.driver()"
   ]
  },
  {
   "cell_type": "markdown",
   "metadata": {},
   "source": [
    "##### Calling"
   ]
  },
  {
   "cell_type": "code",
   "execution_count": 27,
   "metadata": {},
   "outputs": [
    {
     "name": "stdout",
     "output_type": "stream",
     "text": [
      "False\n",
      "True\n"
     ]
    },
    {
     "ename": "AttributeError",
     "evalue": "'Human_Matrix_Universe' object has no attribute 'location'",
     "output_type": "error",
     "traceback": [
      "\u001b[1;31m---------------------------------------------------------------------------\u001b[0m",
      "\u001b[1;31mAttributeError\u001b[0m                            Traceback (most recent call last)",
      "Cell \u001b[1;32mIn[27], line 9\u001b[0m\n\u001b[0;32m      6\u001b[0m \u001b[38;5;66;03m#self.awake\u001b[39;00m\n\u001b[0;32m      7\u001b[0m \u001b[38;5;28mprint\u001b[39m(neo\u001b[38;5;241m.\u001b[39mawake)\n\u001b[1;32m----> 9\u001b[0m \u001b[43mneo\u001b[49m\u001b[38;5;241;43m.\u001b[39;49m\u001b[43mdodge_bullets\u001b[49m\u001b[43m(\u001b[49m\u001b[43m)\u001b[49m\n",
      "Cell \u001b[1;32mIn[26], line 42\u001b[0m, in \u001b[0;36mHuman_Matrix_Universe.dodge_bullets\u001b[1;34m(self)\u001b[0m\n\u001b[0;32m     41\u001b[0m \u001b[38;5;28;01mdef\u001b[39;00m \u001b[38;5;21mdodge_bullets\u001b[39m(\u001b[38;5;28mself\u001b[39m):\n\u001b[1;32m---> 42\u001b[0m     \u001b[38;5;28;01mif\u001b[39;00m \u001b[38;5;28;43mself\u001b[39;49m\u001b[38;5;241;43m.\u001b[39;49m\u001b[43mlocation\u001b[49m \u001b[38;5;129;01mand\u001b[39;00m \u001b[38;5;28mself\u001b[39m\u001b[38;5;241m.\u001b[39mawake:\n\u001b[0;32m     43\u001b[0m         \u001b[38;5;28mprint\u001b[39m(\u001b[38;5;124m'\u001b[39m\u001b[38;5;124mAgents are coming, slow down time, do crazy backflips\u001b[39m\u001b[38;5;124m'\u001b[39m)\n\u001b[0;32m     44\u001b[0m     \u001b[38;5;28;01melse\u001b[39;00m:\n",
      "\u001b[1;31mAttributeError\u001b[0m: 'Human_Matrix_Universe' object has no attribute 'location'"
     ]
    }
   ],
   "source": [
    "neo = Human_Matrix_Universe('neo')\n",
    "\n",
    "print(neo.awake)\n",
    "#modify class attribute\n",
    "neo.pill_decision('red')\n",
    "#self.awake\n",
    "print(neo.awake)\n",
    "\n",
    "neo.dodge_bullets()"
   ]
  },
  {
   "cell_type": "markdown",
   "metadata": {},
   "source": [
    "##### Modifying an Attribute's Value Through a Method"
   ]
  },
  {
   "cell_type": "code",
   "execution_count": 28,
   "metadata": {},
   "outputs": [
    {
     "name": "stdout",
     "output_type": "stream",
     "text": [
      "\n",
      " You know boxing\n",
      "['boxing']\n"
     ]
    }
   ],
   "source": [
    "neo.fighting_styles\n",
    "\n",
    "neo.specific_training('boxing')\n",
    "\n",
    "print(neo.fighting_styles)"
   ]
  },
  {
   "cell_type": "markdown",
   "metadata": {},
   "source": [
    "##### Incrementing an Attribute's Value Through a Method"
   ]
  },
  {
   "cell_type": "code",
   "execution_count": null,
   "metadata": {},
   "outputs": [],
   "source": []
  },
  {
   "cell_type": "markdown",
   "metadata": {},
   "source": [
    "##### In-Class Exercise #3 - Add a method that takes in three parameters of year, doors and seats and prints out a formatted print statement with make, model, year, seats, and doors"
   ]
  },
  {
   "cell_type": "code",
   "execution_count": null,
   "metadata": {},
   "outputs": [],
   "source": [
    "# Create class with 2 paramters inside of the __init__ which are make and model\n",
    "\n",
    "# Inside of the Car class create a method that has 4 parameter in total (self,year,door,seats)\n",
    "\n",
    "# Output: This car is from 2019 and is a Ford Expolorer and has 4 doors and 5 seats\n",
    "class selected_car:\n",
    "    def __init__(self, year, make, model, doors, seats):\n",
    "        self.year = year\n",
    "        self.make = make\n",
    "        self.model = model\n",
    "        self.doors = doors\n",
    "        self.seats = seats\n",
    "        \n",
    "    def doors():\n",
    "        if doors == 4:\n",
    "            self.awake = True \n",
    "        else:\n",
    "            self.awake = False\n",
    "            print('Not selected car')\n",
    "            \n",
    "    def models(self):\n",
    "        self.models += ['nissan', 'hyundai', 'toyota', 'bmw', 'volkswagen']\n",
    "        print('\\n You picked {self.models}')\n",
    "        \n",
    "    def driver(main):\n",
    "        p\n",
    "    \n"
   ]
  },
  {
   "cell_type": "markdown",
   "metadata": {},
   "source": [
    "## Inheritance <br>\n",
    "<p>You can create a child-parent relationship between two classes by using inheritance. What this allows you to do is have overriding methods, but also inherit traits from the parent class. Think of it as an actual parent and child, the child will inherit the parent's genes, as will the classes in OOP</p>"
   ]
  },
  {
   "cell_type": "markdown",
   "metadata": {},
   "source": [
    "##### Syntax for Inheriting from a Parent Class"
   ]
  },
  {
   "cell_type": "code",
   "execution_count": 34,
   "metadata": {},
   "outputs": [
    {
     "name": "stdout",
     "output_type": "stream",
     "text": [
      "medium\n",
      "I am a human\n",
      "Vilhelm The Rogue {'strength': 10, 'dex': 10}\n"
     ]
    }
   ],
   "source": [
    "class Fantasy_Character:\n",
    "    speed = 10\n",
    "    \n",
    "    def __init__(self, name, fantasy_class, stats):\n",
    "        self.name = name\n",
    "        self.fantasy_class = fantasy_class\n",
    "        self.stats = stats\n",
    "    \n",
    "    def display_character(self):\n",
    "        print(f'{self.name} {self.fantasy_class} {self.stats}')\n",
    "    \n",
    "class Human(Fantasy_Character):\n",
    "    size = \"medium\"\n",
    "    \n",
    "    def display_fantasy_race(self):\n",
    "        print('I am a human')\n",
    "        \n",
    "dummy_stats = {\n",
    "    'strength' : 10,\n",
    "    'dex' : 10\n",
    "}\n",
    "        \n",
    "new_human = Human('Vilhelm', 'The Rogue', dummy_stats)\n",
    "\n",
    "print(new_human.size)\n",
    "new_human.display_fantasy_race()\n",
    "# accessing parent attributes\n",
    "new_human.speed\n",
    "# and parent method\n",
    "new_human.display_character()"
   ]
  },
  {
   "cell_type": "markdown",
   "metadata": {},
   "source": [
    "##### The \\__init\\__() Method for a Child Class - super()"
   ]
  },
  {
   "cell_type": "code",
   "execution_count": 40,
   "metadata": {
    "scrolled": true
   },
   "outputs": [
    {
     "name": "stdout",
     "output_type": "stream",
     "text": [
      "My race is a Orc\n",
      "meepo barbarian {'strength': 10, 'dex': 10}\n"
     ]
    }
   ],
   "source": [
    "from random import randint\n",
    "\n",
    "class Orc(Fantasy_Character):\n",
    "# overwriting parent class attribute\n",
    "    speed = 8\n",
    "    size = 'large'\n",
    "    \n",
    "    def __init__(self, name, fantasy_class, stats, height):\n",
    "        super().__init__(name, fantasy_class, stats)\n",
    "        self.height = height\n",
    "        \n",
    "    def lucky(self):\n",
    "        print(f'You gain a {randint(1, self.stats[\"dex\"])} bonus to your luck roll')\n",
    "    \n",
    "    def display_my_class(self):\n",
    "        print('My race is a Orc')\n",
    "        \n",
    "meepo = Orc('meepo', 'barbarian', dummy_stats, 4)\n",
    "# showing overwritten attribute\n",
    "meepo.speed\n",
    "\n",
    "meepo.display_my_class()\n",
    "meepo.display_character()"
   ]
  },
  {
   "cell_type": "markdown",
   "metadata": {},
   "source": [
    "##### Defining Attributes and Methods for the Child Class"
   ]
  },
  {
   "cell_type": "code",
   "execution_count": null,
   "metadata": {},
   "outputs": [],
   "source": [
    "# See Above"
   ]
  },
  {
   "cell_type": "markdown",
   "metadata": {},
   "source": [
    "##### Method Overriding"
   ]
  },
  {
   "cell_type": "code",
   "execution_count": 42,
   "metadata": {},
   "outputs": [
    {
     "ename": "SyntaxError",
     "evalue": "invalid syntax (156387913.py, line 11)",
     "output_type": "error",
     "traceback": [
      "\u001b[1;36m  Cell \u001b[1;32mIn[42], line 11\u001b[1;36m\u001b[0m\n\u001b[1;33m    del = Half_Orc('Del', 'Articifer', dummy_stats, 4, 200)\u001b[0m\n\u001b[1;37m        ^\u001b[0m\n\u001b[1;31mSyntaxError\u001b[0m\u001b[1;31m:\u001b[0m invalid syntax\n"
     ]
    }
   ],
   "source": [
    "# Grandchild class\n",
    "class Half_Orc(Orc):\n",
    "    \n",
    "    def __init__(self, fantasy_class, stats, height, weight):\n",
    "        super(name, fantasy_class, stats, height)\n",
    "        self.weight = weight\n",
    "    \n",
    "    def display_my_class(self):\n",
    "        print('my class is half orc')\n",
    "        \n",
    "del = Half_Orc('Del', 'Articifer', dummy_stats, 4, 200)"
   ]
  },
  {
   "cell_type": "markdown",
   "metadata": {},
   "source": [
    "## Classes as Attributes <br>\n",
    "<p>Classes can also be used as attributes within another class. This is useful in situations where you need to keep variables locally stored, instead of globally stored.</p>"
   ]
  },
  {
   "cell_type": "code",
   "execution_count": 49,
   "metadata": {},
   "outputs": [],
   "source": [
    "class Stats:\n",
    "    \n",
    "    def __init__(self, strength=15, dexterity=6, constitution=14, intellegence=8, wisdom=16, charisma=17):\n",
    "        self.strength = strength\n",
    "        self.dexterity = dexterity\n",
    "        self.constitution = constitution\n",
    "        self.intellegence = intellegence\n",
    "        self.wisdom = wisdom\n",
    "        self.charisma = charisma\n",
    "        \n",
    "    def simple_test(self):\n",
    "        print('method from object attribute')"
   ]
  },
  {
   "cell_type": "code",
   "execution_count": 50,
   "metadata": {},
   "outputs": [
    {
     "name": "stdout",
     "output_type": "stream",
     "text": [
      "method from object attribute\n"
     ]
    }
   ],
   "source": [
    "new_stats = Stats()\n",
    "\n",
    "new_character = Orc('Del', 'Paladin', new_stats, 10)\n",
    "\n",
    "new_character.stats.strength\n",
    "\n",
    "new_character.stats.simple_test()"
   ]
  },
  {
   "cell_type": "markdown",
   "metadata": {},
   "source": [
    "# Exercises"
   ]
  },
  {
   "cell_type": "markdown",
   "metadata": {},
   "source": [
    "### Exercise 1 - Turn the shopping cart program from yesterday into an object-oriented program\n",
    "\n",
    "The comments in the cell below are there as a guide for thinking about the problem. However, if you feel a different way is best for you and your own thought process, please do what feels best for you by all means."
   ]
  },
  {
   "cell_type": "code",
   "execution_count": 1,
   "metadata": {},
   "outputs": [
    {
     "name": "stdout",
     "output_type": "stream",
     "text": [
      "Would you like to add/remove/show/quit?: add\n",
      "What item are you adding?eggs\n",
      "How many eggs would you like to add?: 4\n",
      "How much does eggs cost?: 2.50\n"
     ]
    },
    {
     "ename": "AttributeError",
     "evalue": "'Cart' object has no attribute 'grocery_list'",
     "output_type": "error",
     "traceback": [
      "\u001b[1;31m---------------------------------------------------------------------------\u001b[0m",
      "\u001b[1;31mAttributeError\u001b[0m                            Traceback (most recent call last)",
      "Cell \u001b[1;32mIn[1], line 70\u001b[0m\n\u001b[0;32m     67\u001b[0m         \u001b[38;5;28mprint\u001b[39m(\u001b[38;5;28mself\u001b[39m\u001b[38;5;241m.\u001b[39mgrocery_dict)\n\u001b[0;32m     69\u001b[0m new_cart \u001b[38;5;241m=\u001b[39m Cart()\n\u001b[1;32m---> 70\u001b[0m \u001b[43mnew_cart\u001b[49m\u001b[38;5;241;43m.\u001b[39;49m\u001b[43mdriver\u001b[49m\u001b[43m(\u001b[49m\u001b[43m)\u001b[49m\n",
      "Cell \u001b[1;32mIn[1], line 13\u001b[0m, in \u001b[0;36mCart.driver\u001b[1;34m(self)\u001b[0m\n\u001b[0;32m     11\u001b[0m \u001b[38;5;66;03m#    handle add\u001b[39;00m\n\u001b[0;32m     12\u001b[0m         \u001b[38;5;28;01mif\u001b[39;00m res \u001b[38;5;241m==\u001b[39m \u001b[38;5;124m'\u001b[39m\u001b[38;5;124madd\u001b[39m\u001b[38;5;124m'\u001b[39m:\n\u001b[1;32m---> 13\u001b[0m             \u001b[38;5;28;43mself\u001b[39;49m\u001b[38;5;241;43m.\u001b[39;49m\u001b[43madd\u001b[49m\u001b[43m(\u001b[49m\u001b[43m)\u001b[49m\n\u001b[0;32m     14\u001b[0m \u001b[38;5;66;03m#    handle remove\u001b[39;00m\n\u001b[0;32m     15\u001b[0m         \u001b[38;5;28;01mif\u001b[39;00m res \u001b[38;5;241m==\u001b[39m \u001b[38;5;124m'\u001b[39m\u001b[38;5;124mremove\u001b[39m\u001b[38;5;124m'\u001b[39m:\n",
      "Cell \u001b[1;32mIn[1], line 44\u001b[0m, in \u001b[0;36mCart.add\u001b[1;34m(self)\u001b[0m\n\u001b[0;32m     42\u001b[0m      \u001b[38;5;28;01mpass\u001b[39;00m\n\u001b[0;32m     43\u001b[0m \u001b[38;5;28;01melse\u001b[39;00m:\n\u001b[1;32m---> 44\u001b[0m     \u001b[38;5;28;43mself\u001b[39;49m\u001b[38;5;241;43m.\u001b[39;49m\u001b[43mgrocery_list\u001b[49m[item] \u001b[38;5;241m=\u001b[39m {\n\u001b[0;32m     45\u001b[0m         \u001b[38;5;124m'\u001b[39m\u001b[38;5;124mquantity\u001b[39m\u001b[38;5;124m'\u001b[39m : quantity,\n\u001b[0;32m     46\u001b[0m         \u001b[38;5;124m'\u001b[39m\u001b[38;5;124mprice\u001b[39m\u001b[38;5;124m'\u001b[39m : price\n\u001b[0;32m     47\u001b[0m     }\n\u001b[0;32m     48\u001b[0m \u001b[38;5;28mself\u001b[39m\u001b[38;5;241m.\u001b[39mshow()\n",
      "\u001b[1;31mAttributeError\u001b[0m: 'Cart' object has no attribute 'grocery_list'"
     ]
    }
   ],
   "source": [
    "# Create a class called cart that retains items and has methods to add, remove, and show\n",
    "\n",
    "class Cart():\n",
    "    grocery_dict ={}\n",
    "\n",
    "    def driver(self):\n",
    "        shopping = True\n",
    "        while shopping:\n",
    "    #    user option for adding, removing, showing and quit\n",
    "            res = input('Would you like to add/remove/show/quit?: ').lower()\n",
    "    #    handle add\n",
    "            if res == 'add':\n",
    "                self.add()\n",
    "    #    handle remove\n",
    "            if res == 'remove':\n",
    "                self.remove()\n",
    "    #    handle show\n",
    "            if res == 'show':\n",
    "                self.show()\n",
    "    #    handle quit\n",
    "            if res == 'quit':\n",
    "                shopping = False\n",
    "    #    continue until quit\n",
    "\n",
    "    def add(self):\n",
    "        item = input('What item are you adding?').lower()\n",
    "        while True:\n",
    "            quantity = input(f'How many {item} would you like to add?: ')\n",
    "            if quantity.isdigit():\n",
    "                quantity = int(quantity)\n",
    "                break\n",
    "            else:\n",
    "                print('Please enter quantity in digits')\n",
    "        while True:\n",
    "            try:\n",
    "                price = float(input(f'How much does {item} cost?: '))\n",
    "                break\n",
    "            except:\n",
    "                print('Please enter price in digits')\n",
    "                \n",
    "        if item in self.grocery_dict:\n",
    "             pass\n",
    "        else:\n",
    "            self.grocery_list[item] = {\n",
    "                'quantity' : quantity,\n",
    "                'price' : price\n",
    "            }\n",
    "        self.show()\n",
    "        \n",
    "    def remove(self):\n",
    "        item_to_remove = input('What item would you like to remove?: ').lower()\n",
    "        while True:\n",
    "            quantity = int(input('how many would you like to remove?: '))\n",
    "            break\n",
    "        except:\n",
    "            ('Please enter quantity in digits')\n",
    "        if item_to_remove in self.grocery.dict:\n",
    "            self.gracery.dict[item_to_remove]['quantity'] -= quantity\n",
    "            if self.gracery.dict[item_to_remove]['quantity'] < 1:\n",
    "                self.grocery_dict.pop(item_to_remove)\n",
    "            else:\n",
    "                print('Item not in list')\n",
    "            self.show()\n",
    "            \n",
    "    def show(self):\n",
    "        print(self.grocery_dict)\n",
    "    \n",
    "new_cart = Cart()\n",
    "new_cart.driver()"
   ]
  },
  {
   "cell_type": "markdown",
   "metadata": {},
   "source": [
    "### Exercise 2 - Write a Python class which has two methods get_String and print_String. get_String accept a string from the user and print_String print the string in upper case"
   ]
  },
  {
   "cell_type": "code",
   "execution_count": 1,
   "metadata": {},
   "outputs": [
    {
     "name": "stdout",
     "output_type": "stream",
     "text": [
      "Enter a string: hello world\n",
      "The string in uppercase is: HELLO WORLD\n"
     ]
    }
   ],
   "source": [
    "class StringConverter:\n",
    "    def __init__(self):\n",
    "        self.input_string = \"\"\n",
    "\n",
    "    def get_String(self):\n",
    "        self.input_string = input(\"Enter a string: \")\n",
    "\n",
    "    def print_String(self):\n",
    "        print(\"The string in uppercase is:\", self.input_string.upper())\n",
    "        \n",
    "converter = StringConverter()\n",
    "\n",
    "converter.get_String()\n",
    "\n",
    "converter.print_String()\n"
   ]
  },
  {
   "cell_type": "code",
   "execution_count": null,
   "metadata": {},
   "outputs": [],
   "source": []
  }
 ],
 "metadata": {
  "kernelspec": {
   "display_name": "Python 3 (ipykernel)",
   "language": "python",
   "name": "python3"
  },
  "language_info": {
   "codemirror_mode": {
    "name": "ipython",
    "version": 3
   },
   "file_extension": ".py",
   "mimetype": "text/x-python",
   "name": "python",
   "nbconvert_exporter": "python",
   "pygments_lexer": "ipython3",
   "version": "3.10.9"
  }
 },
 "nbformat": 4,
 "nbformat_minor": 2
}
